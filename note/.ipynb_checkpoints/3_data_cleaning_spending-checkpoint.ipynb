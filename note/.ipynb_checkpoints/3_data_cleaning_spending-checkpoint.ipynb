{
 "cells": [
  {
   "cell_type": "code",
   "execution_count": 3,
   "id": "be446f09",
   "metadata": {},
   "outputs": [],
   "source": [
    "import numpy as np\n",
    "import pandas as pd "
   ]
  },
  {
   "cell_type": "code",
   "execution_count": 13,
   "id": "9b8cddc1",
   "metadata": {},
   "outputs": [
    {
     "data": {
      "text/plain": [
       "True"
      ]
     },
     "execution_count": 13,
     "metadata": {},
     "output_type": "execute_result"
    }
   ],
   "source": [
    "os.path.isfile(\"../config.yaml\")"
   ]
  },
  {
   "cell_type": "code",
   "execution_count": 15,
   "id": "82cac05a",
   "metadata": {},
   "outputs": [
    {
     "name": "stdout",
     "output_type": "stream",
     "text": [
      "Config file not found!!!\n"
     ]
    }
   ],
   "source": [
    "try:\n",
    "    with open(\"../config.yaml\", \"r\") as file:\n",
    "        config = yaml.safe_load(file)\n",
    "except Exception as e:\n",
    "    print(\"Config file not found!!!\")"
   ]
  },
  {
   "cell_type": "code",
   "execution_count": null,
   "id": "886b6e43",
   "metadata": {},
   "outputs": [],
   "source": [
    "#load the data\n",
    "\n",
    "data = pd.read_excel('../data/raw/Average_of_spend_per_visit.xlsx', engine=\"openpyxl\")"
   ]
  },
  {
   "cell_type": "code",
   "execution_count": null,
   "id": "4d4eb7fc",
   "metadata": {},
   "outputs": [],
   "source": [
    "data"
   ]
  },
  {
   "cell_type": "code",
   "execution_count": null,
   "id": "affe1509",
   "metadata": {},
   "outputs": [],
   "source": [
    "#now 'Average spending per day' is focused and will be analysed. So, the column related to 'Average spending per visit' is removed.\n",
    "\n",
    "\n",
    "data1 = data.iloc[:,[0,8,9,10,11,12]]\n",
    "data1"
   ]
  },
  {
   "cell_type": "code",
   "execution_count": null,
   "id": "326f7bae",
   "metadata": {},
   "outputs": [],
   "source": [
    "#change the column' names\n",
    "data1.columns = ['country','2018', '2019', '2020', '2021', '2022']\n",
    "data1"
   ]
  },
  {
   "cell_type": "code",
   "execution_count": null,
   "id": "d76635da",
   "metadata": {},
   "outputs": [],
   "source": [
    "#remove some null vaslus \n",
    "data2 = data1.iloc[5:,:]\n",
    "data2"
   ]
  },
  {
   "cell_type": "code",
   "execution_count": null,
   "id": "d997a37d",
   "metadata": {},
   "outputs": [],
   "source": [
    "# %load ../src/function.py\n",
    "import pandas as pd\n",
    "\n",
    "def remove_region(df:pd.DataFrame) -> pd.DataFrame:\n",
    "\t'''\n",
    "\tThis function removes enexpected values(region) of the column: 'country' but only' total world' and \n",
    "\tsomething of 'other--- ' are remained.\n",
    "\n",
    "\tInput:pd.DataFrame\n",
    "\n",
    "\tOutput:pd.DataFrame  \n",
    "\n",
    "\n",
    "\t''' \n",
    "\tdf2 = df.copy()\n",
    "\n",
    "\tremove_regions = {'North America', 'North America', '- of which EU', '- of which EU15', '- of which EU Oth', 'Europe'}\n",
    "\n",
    "\t#for i in len(df):\n",
    "\t#\tif df2['country'] in remove_regions:\n",
    "\t#\t\tdf2. \n",
    "\tdf2 = df2[~df2['country'].isin(remove_regions )]\n",
    "\n",
    "\n",
    "\n",
    "\n",
    "\n",
    "\treturn df2\n",
    "\n",
    "\n",
    "\n",
    "\n",
    "\n",
    "\n",
    "\n",
    "\n",
    "\n",
    "\n"
   ]
  },
  {
   "cell_type": "code",
   "execution_count": null,
   "id": "6b3e962a",
   "metadata": {},
   "outputs": [],
   "source": [
    "%run -i ../src/function.py\n",
    "\n",
    "data3 = data2.copy()\n",
    "data3 = remove_region(data3)\n",
    "data3"
   ]
  },
  {
   "cell_type": "markdown",
   "id": "f3057d0d",
   "metadata": {},
   "source": [
    "### All numerical values are changed into numbers with the second decimal places."
   ]
  },
  {
   "cell_type": "code",
   "execution_count": null,
   "id": "113c2f6d",
   "metadata": {},
   "outputs": [],
   "source": [
    "# all numerical values are changed into numbers with the second decimal places.\n",
    "# chack the data type\n",
    "data4 = data3.copy()\n",
    "data4.dtypes"
   ]
  },
  {
   "cell_type": "code",
   "execution_count": null,
   "id": "d4396a5f",
   "metadata": {},
   "outputs": [],
   "source": [
    "#search the value of '2020'\n",
    "data4['2020'].value_counts()"
   ]
  },
  {
   "cell_type": "code",
   "execution_count": null,
   "id": "4a693aa3",
   "metadata": {},
   "outputs": [],
   "source": [
    "# replace '-' with null values\n",
    "data5 = data4.copy()\n",
    "\n",
    "data5.loc[:,'2020'] = np.nan\n",
    "#data5 = data5.replace('-', np.nan)\n",
    "data5"
   ]
  },
  {
   "cell_type": "code",
   "execution_count": null,
   "id": "73535765",
   "metadata": {},
   "outputs": [],
   "source": [
    "# change the index \n",
    "data6 = data5.reset_index(drop=True)\n",
    "data6"
   ]
  },
  {
   "cell_type": "code",
   "execution_count": null,
   "id": "79568054",
   "metadata": {},
   "outputs": [],
   "source": [
    "# replace '-' with null values at the row 62 \n",
    "#data6.loc[6,'2018'] == np.nan\n",
    "data6['2018'] = data6['2018'].replace('-', np.nan)\n",
    "data6['2019'] = data6['2019'].replace('-', np.nan)\n",
    "data6"
   ]
  },
  {
   "cell_type": "code",
   "execution_count": null,
   "id": "679595e1",
   "metadata": {},
   "outputs": [],
   "source": [
    "# change types of '2018', '2019' and '2022' into the float type.\n",
    "data7 = data6.copy()\n",
    "data7['2018'] = data7['2018'].astype('float64')\n",
    "data7['2019'] = data7['2019'].astype('float64')\n",
    "data7['2020'] = data7['2020'].astype('float64')\n",
    "data7['2022'] = data7['2022'].astype('float64')\n",
    "data7.dtypes"
   ]
  },
  {
   "cell_type": "code",
   "execution_count": null,
   "id": "fbb29a6f",
   "metadata": {},
   "outputs": [],
   "source": [
    "# round numerical values up to the second decimal points. \n",
    "data8 = data7.copy()\n",
    "data9 = data8.round(2)\n",
    "data9"
   ]
  },
  {
   "cell_type": "code",
   "execution_count": null,
   "id": "0696324a",
   "metadata": {},
   "outputs": [],
   "source": [
    "# save the data\n",
    "data9.to_csv('../data/semi_cleaned/cleaned_spending_per_day.csv', index=False)\n"
   ]
  },
  {
   "cell_type": "code",
   "execution_count": null,
   "id": "29225b2e",
   "metadata": {},
   "outputs": [],
   "source": []
  }
 ],
 "metadata": {
  "kernelspec": {
   "display_name": "mid_project_env",
   "language": "python",
   "name": "mid_project_env"
  },
  "language_info": {
   "codemirror_mode": {
    "name": "ipython",
    "version": 3
   },
   "file_extension": ".py",
   "mimetype": "text/x-python",
   "name": "python",
   "nbconvert_exporter": "python",
   "pygments_lexer": "ipython3",
   "version": "3.9.12"
  }
 },
 "nbformat": 4,
 "nbformat_minor": 5
}
