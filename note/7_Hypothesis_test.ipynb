{
 "cells": [
  {
   "cell_type": "markdown",
   "id": "04ab8bfa",
   "metadata": {},
   "source": [
    "## Hypothesis test"
   ]
  },
  {
   "cell_type": "markdown",
   "id": "3689590f",
   "metadata": {},
   "source": [
    "I am curious about the length of stay by European people. European countries are near the UK compared to ather region. So, I guess European people spend the UK less than '5' days. Test hypothesis using a 95% confidence interval. \n",
    "I will use the data of 2022."
   ]
  },
  {
   "cell_type": "markdown",
   "id": "9358f248",
   "metadata": {},
   "source": [
    "* $H_{0}: \\mu \\leq 5$\n",
    "* $H_{1/a}: \\mu > 5$"
   ]
  },
  {
   "cell_type": "code",
   "execution_count": 2,
   "id": "2fceb337",
   "metadata": {},
   "outputs": [],
   "source": [
    "import numpy as np\n",
    "import pandas as pd"
   ]
  },
  {
   "cell_type": "code",
   "execution_count": 3,
   "id": "c7d028b1",
   "metadata": {},
   "outputs": [
    {
     "data": {
      "text/html": [
       "<div>\n",
       "<style scoped>\n",
       "    .dataframe tbody tr th:only-of-type {\n",
       "        vertical-align: middle;\n",
       "    }\n",
       "\n",
       "    .dataframe tbody tr th {\n",
       "        vertical-align: top;\n",
       "    }\n",
       "\n",
       "    .dataframe thead th {\n",
       "        text-align: right;\n",
       "    }\n",
       "</style>\n",
       "<table border=\"1\" class=\"dataframe\">\n",
       "  <thead>\n",
       "    <tr style=\"text-align: right;\">\n",
       "      <th></th>\n",
       "      <th>country</th>\n",
       "      <th>number_of_visit_2022</th>\n",
       "      <th>spending_per_day_2022</th>\n",
       "      <th>length_of_stay_2022</th>\n",
       "      <th>total_2022_(m)</th>\n",
       "      <th>is_EU</th>\n",
       "      <th>english_spoken</th>\n",
       "      <th>visa_requirement</th>\n",
       "      <th>commonwealth</th>\n",
       "      <th>population_(m)</th>\n",
       "      <th>region</th>\n",
       "      <th>income_group</th>\n",
       "      <th>gdp</th>\n",
       "    </tr>\n",
       "  </thead>\n",
       "  <tbody>\n",
       "    <tr>\n",
       "      <th>0</th>\n",
       "      <td>Canada</td>\n",
       "      <td>897</td>\n",
       "      <td>96.77</td>\n",
       "      <td>11</td>\n",
       "      <td>954</td>\n",
       "      <td>No</td>\n",
       "      <td>Yes</td>\n",
       "      <td>No</td>\n",
       "      <td>Yes</td>\n",
       "      <td>38.93</td>\n",
       "      <td>North America</td>\n",
       "      <td>High income</td>\n",
       "      <td>57430.85</td>\n",
       "    </tr>\n",
       "    <tr>\n",
       "      <th>1</th>\n",
       "      <td>USA</td>\n",
       "      <td>4587</td>\n",
       "      <td>152.05</td>\n",
       "      <td>9</td>\n",
       "      <td>6277</td>\n",
       "      <td>No</td>\n",
       "      <td>Yes</td>\n",
       "      <td>No</td>\n",
       "      <td>No</td>\n",
       "      <td>333.29</td>\n",
       "      <td>North America</td>\n",
       "      <td>High income</td>\n",
       "      <td>62866.71</td>\n",
       "    </tr>\n",
       "    <tr>\n",
       "      <th>2</th>\n",
       "      <td>Austria</td>\n",
       "      <td>288</td>\n",
       "      <td>103.82</td>\n",
       "      <td>6</td>\n",
       "      <td>179</td>\n",
       "      <td>Yes</td>\n",
       "      <td>No</td>\n",
       "      <td>No</td>\n",
       "      <td>No</td>\n",
       "      <td>9.04</td>\n",
       "      <td>Europe &amp; Central Asia</td>\n",
       "      <td>High income</td>\n",
       "      <td>42400.00</td>\n",
       "    </tr>\n",
       "    <tr>\n",
       "      <th>3</th>\n",
       "      <td>Belgium</td>\n",
       "      <td>679</td>\n",
       "      <td>125.90</td>\n",
       "      <td>5</td>\n",
       "      <td>427</td>\n",
       "      <td>Yes</td>\n",
       "      <td>No</td>\n",
       "      <td>No</td>\n",
       "      <td>No</td>\n",
       "      <td>11.67</td>\n",
       "      <td>Europe &amp; Central Asia</td>\n",
       "      <td>High income</td>\n",
       "      <td>39725.42</td>\n",
       "    </tr>\n",
       "    <tr>\n",
       "      <th>4</th>\n",
       "      <td>Bulgaria</td>\n",
       "      <td>183</td>\n",
       "      <td>67.46</td>\n",
       "      <td>9</td>\n",
       "      <td>111</td>\n",
       "      <td>Yes</td>\n",
       "      <td>No</td>\n",
       "      <td>No</td>\n",
       "      <td>No</td>\n",
       "      <td>6.47</td>\n",
       "      <td>Europe &amp; Central Asia</td>\n",
       "      <td>Upper middle income</td>\n",
       "      <td>16750.85</td>\n",
       "    </tr>\n",
       "  </tbody>\n",
       "</table>\n",
       "</div>"
      ],
      "text/plain": [
       "    country  number_of_visit_2022  spending_per_day_2022  length_of_stay_2022  \\\n",
       "0    Canada                   897                  96.77                   11   \n",
       "1       USA                  4587                 152.05                    9   \n",
       "2   Austria                   288                 103.82                    6   \n",
       "3   Belgium                   679                 125.90                    5   \n",
       "4  Bulgaria                   183                  67.46                    9   \n",
       "\n",
       "   total_2022_(m) is_EU english_spoken visa_requirement commonwealth  \\\n",
       "0             954    No            Yes               No          Yes   \n",
       "1            6277    No            Yes               No           No   \n",
       "2             179   Yes             No               No           No   \n",
       "3             427   Yes             No               No           No   \n",
       "4             111   Yes             No               No           No   \n",
       "\n",
       "   population_(m)                 region         income_group       gdp  \n",
       "0           38.93          North America          High income  57430.85  \n",
       "1          333.29          North America          High income  62866.71  \n",
       "2            9.04  Europe & Central Asia          High income  42400.00  \n",
       "3           11.67  Europe & Central Asia          High income  39725.42  \n",
       "4            6.47  Europe & Central Asia  Upper middle income  16750.85  "
      ]
     },
     "execution_count": 3,
     "metadata": {},
     "output_type": "execute_result"
    }
   ],
   "source": [
    "#import the file\n",
    "data = pd.read_csv('../data/cleaned/data_2022.csv')\n",
    "data.head()"
   ]
  },
  {
   "cell_type": "code",
   "execution_count": 7,
   "id": "26923902",
   "metadata": {},
   "outputs": [
    {
     "data": {
      "text/html": [
       "<div>\n",
       "<style scoped>\n",
       "    .dataframe tbody tr th:only-of-type {\n",
       "        vertical-align: middle;\n",
       "    }\n",
       "\n",
       "    .dataframe tbody tr th {\n",
       "        vertical-align: top;\n",
       "    }\n",
       "\n",
       "    .dataframe thead th {\n",
       "        text-align: right;\n",
       "    }\n",
       "</style>\n",
       "<table border=\"1\" class=\"dataframe\">\n",
       "  <thead>\n",
       "    <tr style=\"text-align: right;\">\n",
       "      <th></th>\n",
       "      <th>country</th>\n",
       "      <th>number_of_visit_2022</th>\n",
       "      <th>spending_per_day_2022</th>\n",
       "      <th>length_of_stay_2022</th>\n",
       "      <th>total_2022_(m)</th>\n",
       "      <th>is_EU</th>\n",
       "      <th>english_spoken</th>\n",
       "      <th>visa_requirement</th>\n",
       "      <th>commonwealth</th>\n",
       "      <th>population_(m)</th>\n",
       "      <th>region</th>\n",
       "      <th>income_group</th>\n",
       "      <th>gdp</th>\n",
       "    </tr>\n",
       "  </thead>\n",
       "  <tbody>\n",
       "    <tr>\n",
       "      <th>2</th>\n",
       "      <td>Austria</td>\n",
       "      <td>288</td>\n",
       "      <td>103.82</td>\n",
       "      <td>6</td>\n",
       "      <td>179</td>\n",
       "      <td>Yes</td>\n",
       "      <td>No</td>\n",
       "      <td>No</td>\n",
       "      <td>No</td>\n",
       "      <td>9.04</td>\n",
       "      <td>Europe &amp; Central Asia</td>\n",
       "      <td>High income</td>\n",
       "      <td>42400.00</td>\n",
       "    </tr>\n",
       "    <tr>\n",
       "      <th>3</th>\n",
       "      <td>Belgium</td>\n",
       "      <td>679</td>\n",
       "      <td>125.90</td>\n",
       "      <td>5</td>\n",
       "      <td>427</td>\n",
       "      <td>Yes</td>\n",
       "      <td>No</td>\n",
       "      <td>No</td>\n",
       "      <td>No</td>\n",
       "      <td>11.67</td>\n",
       "      <td>Europe &amp; Central Asia</td>\n",
       "      <td>High income</td>\n",
       "      <td>39725.42</td>\n",
       "    </tr>\n",
       "    <tr>\n",
       "      <th>4</th>\n",
       "      <td>Bulgaria</td>\n",
       "      <td>183</td>\n",
       "      <td>67.46</td>\n",
       "      <td>9</td>\n",
       "      <td>111</td>\n",
       "      <td>Yes</td>\n",
       "      <td>No</td>\n",
       "      <td>No</td>\n",
       "      <td>No</td>\n",
       "      <td>6.47</td>\n",
       "      <td>Europe &amp; Central Asia</td>\n",
       "      <td>Upper middle income</td>\n",
       "      <td>16750.85</td>\n",
       "    </tr>\n",
       "    <tr>\n",
       "      <th>5</th>\n",
       "      <td>Czech Republic</td>\n",
       "      <td>276</td>\n",
       "      <td>100.49</td>\n",
       "      <td>5</td>\n",
       "      <td>138</td>\n",
       "      <td>Yes</td>\n",
       "      <td>No</td>\n",
       "      <td>No</td>\n",
       "      <td>No</td>\n",
       "      <td>10.53</td>\n",
       "      <td>Europe &amp; Central Asia</td>\n",
       "      <td>High income</td>\n",
       "      <td>505259.65</td>\n",
       "    </tr>\n",
       "    <tr>\n",
       "      <th>6</th>\n",
       "      <td>Cyprus</td>\n",
       "      <td>123</td>\n",
       "      <td>80.54</td>\n",
       "      <td>11</td>\n",
       "      <td>108</td>\n",
       "      <td>Yes</td>\n",
       "      <td>No</td>\n",
       "      <td>Yes</td>\n",
       "      <td>Yes</td>\n",
       "      <td>1.25</td>\n",
       "      <td>Europe &amp; Central Asia</td>\n",
       "      <td>High income</td>\n",
       "      <td>26653.36</td>\n",
       "    </tr>\n",
       "  </tbody>\n",
       "</table>\n",
       "</div>"
      ],
      "text/plain": [
       "          country  number_of_visit_2022  spending_per_day_2022  \\\n",
       "2         Austria                   288                 103.82   \n",
       "3         Belgium                   679                 125.90   \n",
       "4        Bulgaria                   183                  67.46   \n",
       "5  Czech Republic                   276                 100.49   \n",
       "6          Cyprus                   123                  80.54   \n",
       "\n",
       "   length_of_stay_2022  total_2022_(m) is_EU english_spoken visa_requirement  \\\n",
       "2                    6             179   Yes             No               No   \n",
       "3                    5             427   Yes             No               No   \n",
       "4                    9             111   Yes             No               No   \n",
       "5                    5             138   Yes             No               No   \n",
       "6                   11             108   Yes             No              Yes   \n",
       "\n",
       "  commonwealth  population_(m)                 region         income_group  \\\n",
       "2           No            9.04  Europe & Central Asia          High income   \n",
       "3           No           11.67  Europe & Central Asia          High income   \n",
       "4           No            6.47  Europe & Central Asia  Upper middle income   \n",
       "5           No           10.53  Europe & Central Asia          High income   \n",
       "6          Yes            1.25  Europe & Central Asia          High income   \n",
       "\n",
       "         gdp  \n",
       "2   42400.00  \n",
       "3   39725.42  \n",
       "4   16750.85  \n",
       "5  505259.65  \n",
       "6   26653.36  "
      ]
     },
     "execution_count": 7,
     "metadata": {},
     "output_type": "execute_result"
    }
   ],
   "source": [
    "#choose only European people. \n",
    "data1 = data[data['region'] == 'Europe & Central Asia']\n",
    "data1.head()"
   ]
  },
  {
   "cell_type": "code",
   "execution_count": 10,
   "id": "e2330643",
   "metadata": {},
   "outputs": [],
   "source": [
    "import scipy.stats as st\n",
    "from scipy.stats import ttest_1samp"
   ]
  },
  {
   "cell_type": "code",
   "execution_count": 11,
   "id": "24b42172",
   "metadata": {},
   "outputs": [],
   "source": [
    "\n",
    "length = data1['length_of_stay_2022']\n",
    "sample_mean = length.mean()\n",
    "sample_std = length.std()\n",
    "sample_size = len(length)\n",
    "Population_mean = 5\n"
   ]
  },
  {
   "cell_type": "code",
   "execution_count": 15,
   "id": "6dbd0bb7",
   "metadata": {},
   "outputs": [
    {
     "name": "stdout",
     "output_type": "stream",
     "text": [
      "Ttest_1sampResult(statistic=4.241987828412078, pvalue=0.0001327917536294034)\n"
     ]
    }
   ],
   "source": [
    "# One-sided test:\n",
    "# Null hypothesis or H0: mean cholesterol value <= 5\n",
    "# Alternative hyp or H1: mean cholesterol value > 5\n",
    "\n",
    "stat, pval = ttest_1samp(length, popmean = 5, alternative = \"greater\")\n",
    "print('Ttest_1sampResult(statistic={}, pvalue={})'.format(stat, pval))\n"
   ]
  },
  {
   "cell_type": "markdown",
   "id": "a76fd01b",
   "metadata": {},
   "source": [
    "In this case the p_value is bigger than $\\alpha=0.05$. Therefore we **reject the null hypothesis**"
   ]
  },
  {
   "cell_type": "markdown",
   "id": "b2478959",
   "metadata": {},
   "source": [
    "Manual Calculation"
   ]
  },
  {
   "cell_type": "code",
   "execution_count": 17,
   "id": "d397c05a",
   "metadata": {
    "scrolled": true
   },
   "outputs": [
    {
     "name": "stdout",
     "output_type": "stream",
     "text": [
      "The critical value is 1.708\n"
     ]
    }
   ],
   "source": [
    "critical_value = st.t.ppf(1-0.05, df=len(length)-1)\n",
    "print(\"The critical value is {:.3f}\".format(critical_value))"
   ]
  },
  {
   "cell_type": "markdown",
   "id": "017e0880",
   "metadata": {},
   "source": [
    "In our case, we have:\n",
    "\n",
    "$$1.708 < 4.241$$\n",
    "\n",
    "Therefore, we **reject the null hypothesis** "
   ]
  },
  {
   "cell_type": "markdown",
   "id": "bd6321be",
   "metadata": {},
   "source": [
    "  "
   ]
  },
  {
   "cell_type": "markdown",
   "id": "2062c50f",
   "metadata": {},
   "source": [
    "### Chi2 test"
   ]
  },
  {
   "cell_type": "markdown",
   "id": "ecb300b6",
   "metadata": {},
   "source": [
    "#### Question: Are Visa requirement and income group releted or not?"
   ]
  },
  {
   "cell_type": "code",
   "execution_count": 21,
   "id": "9467d7d7",
   "metadata": {},
   "outputs": [
    {
     "data": {
      "text/html": [
       "<div>\n",
       "<style scoped>\n",
       "    .dataframe tbody tr th:only-of-type {\n",
       "        vertical-align: middle;\n",
       "    }\n",
       "\n",
       "    .dataframe tbody tr th {\n",
       "        vertical-align: top;\n",
       "    }\n",
       "\n",
       "    .dataframe thead th {\n",
       "        text-align: right;\n",
       "    }\n",
       "</style>\n",
       "<table border=\"1\" class=\"dataframe\">\n",
       "  <thead>\n",
       "    <tr style=\"text-align: right;\">\n",
       "      <th>income_group</th>\n",
       "      <th>High income</th>\n",
       "      <th>Lower middle income</th>\n",
       "      <th>Upper middle income</th>\n",
       "    </tr>\n",
       "    <tr>\n",
       "      <th>visa_requirement</th>\n",
       "      <th></th>\n",
       "      <th></th>\n",
       "      <th></th>\n",
       "    </tr>\n",
       "  </thead>\n",
       "  <tbody>\n",
       "    <tr>\n",
       "      <th>No</th>\n",
       "      <td>31</td>\n",
       "      <td>2</td>\n",
       "      <td>5</td>\n",
       "    </tr>\n",
       "    <tr>\n",
       "      <th>Yes</th>\n",
       "      <td>1</td>\n",
       "      <td>5</td>\n",
       "      <td>4</td>\n",
       "    </tr>\n",
       "  </tbody>\n",
       "</table>\n",
       "</div>"
      ],
      "text/plain": [
       "income_group      High income  Lower middle income  Upper middle income\n",
       "visa_requirement                                                       \n",
       "No                         31                    2                    5\n",
       "Yes                         1                    5                    4"
      ]
     },
     "execution_count": 21,
     "metadata": {},
     "output_type": "execute_result"
    }
   ],
   "source": [
    "data_crosstab = pd.crosstab(data['visa_requirement'], data['income_group'], margins = False)\n",
    "data_crosstab"
   ]
  },
  {
   "cell_type": "markdown",
   "id": "7e192fa1",
   "metadata": {},
   "source": [
    "* $H_{0}:  independent$\n",
    "* $H_{1/a}: not \\_independent$"
   ]
  },
  {
   "cell_type": "code",
   "execution_count": 23,
   "id": "133c6f8e",
   "metadata": {},
   "outputs": [
    {
     "data": {
      "text/plain": [
       "(19.990977443609026,\n",
       " 4.560520415249994e-05,\n",
       " 2,\n",
       " array([[25.33333333,  5.54166667,  7.125     ],\n",
       "        [ 6.66666667,  1.45833333,  1.875     ]]))"
      ]
     },
     "execution_count": 23,
     "metadata": {},
     "output_type": "execute_result"
    }
   ],
   "source": [
    "# (chi2_statistic, p_value, degrees_of_freedom, expected_frequencies_array) = st.chi2_contingency(contingency table)\n",
    "st.chi2_contingency(np.array(data_crosstab))"
   ]
  },
  {
   "cell_type": "code",
   "execution_count": 24,
   "id": "6cac4eca",
   "metadata": {},
   "outputs": [
    {
     "data": {
      "text/plain": [
       "(2, 3)"
      ]
     },
     "execution_count": 24,
     "metadata": {},
     "output_type": "execute_result"
    }
   ],
   "source": [
    "data_crosstab.shape"
   ]
  },
  {
   "cell_type": "code",
   "execution_count": 26,
   "id": "da0ec72c",
   "metadata": {},
   "outputs": [
    {
     "name": "stdout",
     "output_type": "stream",
     "text": [
      "The critical value is 5.991\n"
     ]
    }
   ],
   "source": [
    "critical_value2= st.chi2.ppf(1-0.05,df=2)\n",
    "print(\"The critical value is {:.3f}\".format(critical_value2))"
   ]
  },
  {
   "cell_type": "markdown",
   "id": "9f261b0a",
   "metadata": {},
   "source": [
    "In our case, we have:\n",
    "\n",
    "$$19.990 > 5.991$$ \n",
    "\n",
    "P-value: 4.560520415249994e-05.\n",
    "\n",
    "$$4.560520415249994e-05 < 0.05$$ \n",
    "\n",
    "Therefore, we **reject the null hypothesis** "
   ]
  },
  {
   "cell_type": "code",
   "execution_count": null,
   "id": "d66943a2",
   "metadata": {},
   "outputs": [],
   "source": []
  },
  {
   "cell_type": "code",
   "execution_count": null,
   "id": "00c5eb87",
   "metadata": {},
   "outputs": [],
   "source": []
  }
 ],
 "metadata": {
  "kernelspec": {
   "display_name": "Python 3 (ipykernel)",
   "language": "python",
   "name": "python3"
  },
  "language_info": {
   "codemirror_mode": {
    "name": "ipython",
    "version": 3
   },
   "file_extension": ".py",
   "mimetype": "text/x-python",
   "name": "python",
   "nbconvert_exporter": "python",
   "pygments_lexer": "ipython3",
   "version": "3.9.12"
  }
 },
 "nbformat": 4,
 "nbformat_minor": 5
}
